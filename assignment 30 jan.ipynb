{
 "cells": [
  {
   "cell_type": "code",
   "execution_count": 34,
   "id": "27ac5734-9449-431e-a5c9-76c669f72716",
   "metadata": {},
   "outputs": [
    {
     "name": "stdin",
     "output_type": "stream",
     "text": [
      "Enter The Marks :  32\n"
     ]
    },
    {
     "name": "stdout",
     "output_type": "stream",
     "text": [
      "D\n"
     ]
    }
   ],
   "source": [
    "#  Answer 1\n",
    "marks =int(input(\"Enter The Marks : \"))\n",
    "if marks<60:\n",
    "        print(\"D\");\n",
    "elif marks<=80 & marks>=60:\n",
    "        print(\"C\");\n",
    "elif marks<=90 & marks>80:\n",
    "        print(\"B\");\n",
    "elif marks>90:\n",
    "        print(\"A\");\n",
    "\n"
   ]
  },
  {
   "cell_type": "code",
   "execution_count": 33,
   "id": "523db1f7-7e39-4bb1-8e50-38c9ed469b29",
   "metadata": {},
   "outputs": [
    {
     "name": "stdin",
     "output_type": "stream",
     "text": [
      "Enter the Cost:  5000\n"
     ]
    },
    {
     "name": "stdout",
     "output_type": "stream",
     "text": [
      "Tax to be paid 5%\n"
     ]
    }
   ],
   "source": [
    "# answer 2\n",
    "cost= int(input(\"Enter the Cost: \"))\n",
    "if cost<=50000:\n",
    "    print(\"Tax to be paid 5%\")\n",
    "elif cost>50000 & cost<=100000:\n",
    "    print(\"tax to be paid 10%\")\n",
    "elif cost>100000:\n",
    "    print(\"Tax to be Paid 15%\")\n"
   ]
  },
  {
   "cell_type": "code",
   "execution_count": 37,
   "id": "7916352a-cb0c-4dd9-99a2-eb898d48a34b",
   "metadata": {},
   "outputs": [
    {
     "name": "stdin",
     "output_type": "stream",
     "text": [
      "Enter The City :  Jaipur\n"
     ]
    },
    {
     "name": "stdout",
     "output_type": "stream",
     "text": [
      "Jal Mahal\n"
     ]
    }
   ],
   "source": [
    "# answer 3\n",
    "city =input(\"Enter The City : \")\n",
    "if city==\"Delhi\":\n",
    "    print(\"Red Fort\")\n",
    "elif city==\"Agra\":\n",
    "    print(\"Taj Mahal\")\n",
    "elif city==\"Jaipur\":\n",
    "    print(\"Jal Mahal\")"
   ]
  },
  {
   "cell_type": "code",
   "execution_count": 41,
   "id": "80d53d7a-5396-44d7-9227-3e00b4297cb4",
   "metadata": {},
   "outputs": [
    {
     "name": "stdin",
     "output_type": "stream",
     "text": [
      "Enter the Number 5\n"
     ]
    },
    {
     "name": "stdout",
     "output_type": "stream",
     "text": [
      "1\n"
     ]
    }
   ],
   "source": [
    "# answer 4\n",
    "number=int(input(\"Enter the Number\"))\n",
    "if number<=10:\n",
    "    print(number//3)"
   ]
  },
  {
   "cell_type": "code",
   "execution_count": null,
   "id": "df816b80-0c96-4013-aeb5-cb83d3f47740",
   "metadata": {},
   "outputs": [],
   "source": [
    "# answer 5\n",
    "\"\"\"Python while loop is used to run a block code until a certain condition is met.\n",
    "Here, A while loop evaluates the condition. If the condition evaluates to True ,\n",
    "the code inside the while loop is executed.\"\"\"\n",
    "\n",
    "#example::\n"
   ]
  },
  {
   "cell_type": "code",
   "execution_count": 47,
   "id": "dfd445bb-7c3b-4fa9-a5e1-f3023139fa50",
   "metadata": {},
   "outputs": [
    {
     "name": "stdout",
     "output_type": "stream",
     "text": [
      "1 \n",
      "1 2 \n",
      "1 2 3 \n",
      "1 2 3 4 \n",
      "1 2 3 4 5 \n"
     ]
    }
   ],
   "source": [
    "# answer 6\n",
    "i=1\n",
    "while i<=5:\n",
    "    j=1\n",
    "    while j<=i:\n",
    "        print(j,end=\" \")\n",
    "        j=j+1\n",
    "    print(\"\")\n",
    "    i=i+1"
   ]
  },
  {
   "cell_type": "code",
   "execution_count": 48,
   "id": "71b45dca-998b-45b8-98b2-0c01f8647e32",
   "metadata": {},
   "outputs": [
    {
     "name": "stdout",
     "output_type": "stream",
     "text": [
      "10\n",
      "9\n",
      "8\n",
      "7\n",
      "6\n",
      "5\n",
      "4\n",
      "3\n",
      "2\n",
      "1\n",
      "0\n"
     ]
    }
   ],
   "source": [
    "# answer 7\n",
    "num=10\n",
    "while num>=0:\n",
    "    print(num)\n",
    "    num-=1"
   ]
  },
  {
   "cell_type": "code",
   "execution_count": null,
   "id": "7cd8d396-d297-4de2-9474-9501fea8c33e",
   "metadata": {},
   "outputs": [],
   "source": []
  }
 ],
 "metadata": {
  "kernelspec": {
   "display_name": "Python 3 (ipykernel)",
   "language": "python",
   "name": "python3"
  },
  "language_info": {
   "codemirror_mode": {
    "name": "ipython",
    "version": 3
   },
   "file_extension": ".py",
   "mimetype": "text/x-python",
   "name": "python",
   "nbconvert_exporter": "python",
   "pygments_lexer": "ipython3",
   "version": "3.10.8"
  }
 },
 "nbformat": 4,
 "nbformat_minor": 5
}
